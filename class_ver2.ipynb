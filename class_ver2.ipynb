{
 "cells": [
  {
   "cell_type": "markdown",
   "id": "b676c604",
   "metadata": {},
   "source": [
    "# Class"
   ]
  },
  {
   "cell_type": "code",
   "execution_count": null,
   "id": "2dfdf6ac",
   "metadata": {},
   "outputs": [],
   "source": [
    "class Player:\n",
    "    def __init__(self, name, life, power, speed):\n",
    "        self.name,self.life,self.power,self.speed = name, life, power, speed\n",
    "        print(\"===Selamat datang===\\nPemain Baru Telah Bergabung!\")\n",
    "    def showData(self):\n",
    "        print(f\"Nama: {self.name}\\nLife: {self.life}\\nPower: {self.power}\\nSpeed: {self.speed}\")\n",
    "    def makan(self):\n",
    "        self.power +=5\n",
    "        self.life +=3\n",
    "        self.speed +=2"
   ]
  },
  {
   "cell_type": "code",
   "execution_count": null,
   "id": "a7716f71",
   "metadata": {},
   "outputs": [],
   "source": [
    "aziz = Player(\"Aziz\", 80,86,90)"
   ]
  },
  {
   "cell_type": "code",
   "execution_count": null,
   "id": "a8f928a2",
   "metadata": {},
   "outputs": [],
   "source": [
    "aziz.showData()"
   ]
  },
  {
   "cell_type": "code",
   "execution_count": null,
   "id": "737c844d",
   "metadata": {},
   "outputs": [],
   "source": [
    "class PlayerSuper(Player):\n",
    "    def __init__(self, name, life, power, speed, level):\n",
    "        super().__init__"
   ]
  }
 ],
 "metadata": {
  "kernelspec": {
   "display_name": "Python 3 (ipykernel)",
   "language": "python",
   "name": "python3"
  },
  "language_info": {
   "codemirror_mode": {
    "name": "ipython",
    "version": 3
   },
   "file_extension": ".py",
   "mimetype": "text/x-python",
   "name": "python",
   "nbconvert_exporter": "python",
   "pygments_lexer": "ipython3",
   "version": "3.9.7"
  }
 },
 "nbformat": 4,
 "nbformat_minor": 5
}
