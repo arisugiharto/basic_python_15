{
 "cells": [
  {
   "cell_type": "markdown",
   "id": "d95bc8ef",
   "metadata": {},
   "source": [
    "# Soal 1"
   ]
  },
  {
   "cell_type": "code",
   "execution_count": 4,
   "id": "c2d4522e",
   "metadata": {},
   "outputs": [
    {
     "name": "stdout",
     "output_type": "stream",
     "text": [
      "Nama Saya: ari\n",
      "Usia Saya:41\n",
      "Tinggi saya: 168\n",
      "Nama Saya:ari, Umur:41, Tinggi:168.0\n"
     ]
    }
   ],
   "source": [
    "nama = str(input(\"Nama Saya: \"))\n",
    "usia = int(input(\"Usia Saya:\"))\n",
    "tinggi = float(input(\"Tinggi saya: \"))\n",
    "print(f\"Nama Saya:{nama}, Umur:{usia}, Tinggi:{tinggi}\")"
   ]
  },
  {
   "cell_type": "markdown",
   "id": "69896b06",
   "metadata": {},
   "source": [
    "# Soal 2\n"
   ]
  },
  {
   "cell_type": "markdown",
   "id": "ffaa2e47",
   "metadata": {},
   "source": [
    "## Menghitung luas lingkaran"
   ]
  },
  {
   "cell_type": "code",
   "execution_count": 15,
   "id": "170be4e4",
   "metadata": {},
   "outputs": [
    {
     "name": "stdout",
     "output_type": "stream",
     "text": [
      "Masukkan jari-jari lingkaran: 10\n",
      "Luas lingkaran dengan jari-jari 10cm adalah 314.2857142857143cm²\n"
     ]
    }
   ],
   "source": [
    "jari=int(input(\"Masukkan jari-jari lingkaran: \"))\n",
    "luas=float((22/7)*jari**2)\n",
    "print(f\"Luas lingkaran dengan jari-jari {jari}cm adalah {luas}cm\\u00b2\")"
   ]
  },
  {
   "cell_type": "markdown",
   "id": "841f310b",
   "metadata": {},
   "source": [
    "# Soal 3"
   ]
  },
  {
   "cell_type": "markdown",
   "id": "aeb53289",
   "metadata": {},
   "source": [
    "## Kelulusan siswa"
   ]
  },
  {
   "cell_type": "code",
   "execution_count": null,
   "id": "a2ec6908",
   "metadata": {},
   "outputs": [],
   "source": [
    "ujian_teori = int(input(\"Nilai Ujian Teori: \"))\n",
    "ujian_praktek = int(input(\"Nilai Ujian Praktek: \"))\n",
    "if ujian_teori>=70 and ujian_praktek>=70:\n",
    "    print(\"Selamat, anda lulus !\")\n",
    "elif ujian_teori >=70 and ujian_praktek <70:\n",
    "    print(\"Anda  harus mengulang ujian Praktek\")\n",
    "elif ujian_teori <70 and ujian_praktek >=70:\n",
    "    print(\"Anda harus mengulang ujian teori\")\n",
    "else:\n",
    "    print (\"Anda harus mengulang ujian teori dan praktek\")"
   ]
  }
 ],
 "metadata": {
  "kernelspec": {
   "display_name": "Python 3 (ipykernel)",
   "language": "python",
   "name": "python3"
  },
  "language_info": {
   "codemirror_mode": {
    "name": "ipython",
    "version": 3
   },
   "file_extension": ".py",
   "mimetype": "text/x-python",
   "name": "python",
   "nbconvert_exporter": "python",
   "pygments_lexer": "ipython3",
   "version": "3.9.7"
  }
 },
 "nbformat": 4,
 "nbformat_minor": 5
}
