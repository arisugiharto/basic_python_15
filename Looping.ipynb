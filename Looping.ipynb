{
 "cells": [
  {
   "cell_type": "markdown",
   "id": "78d704b6",
   "metadata": {},
   "source": [
    "# Python Looping"
   ]
  },
  {
   "cell_type": "markdown",
   "id": "ccc255db",
   "metadata": {},
   "source": [
    "## 1. For Loop"
   ]
  },
  {
   "cell_type": "code",
   "execution_count": 2,
   "id": "3ce456b0",
   "metadata": {},
   "outputs": [
    {
     "name": "stdout",
     "output_type": "stream",
     "text": [
      "['Pisang', 'Anggur', 'Strawberry', 'Apel']\n"
     ]
    }
   ],
   "source": [
    "# Bikin Sequence\n",
    "fruits = [\"Pisang\", \"Anggur\", \"Strawberry\", \"Apel\"]\n",
    "print(fruits)"
   ]
  },
  {
   "cell_type": "code",
   "execution_count": 5,
   "id": "f397396a",
   "metadata": {},
   "outputs": [
    {
     "name": "stdout",
     "output_type": "stream",
     "text": [
      "Nama Buah = Pisang\n",
      "Nama Buah = Anggur\n",
      "Nama Buah = Strawberry\n",
      "Nama Buah = Apel\n"
     ]
    }
   ],
   "source": [
    "# Do fro Loops\n",
    "for x in fruits:\n",
    "    print(f\"Nama Buah = {x}\")"
   ]
  },
  {
   "cell_type": "markdown",
   "id": "b1844964",
   "metadata": {},
   "source": [
    "## Range Method"
   ]
  },
  {
   "cell_type": "code",
   "execution_count": 11,
   "id": "633c0af3",
   "metadata": {},
   "outputs": [
    {
     "name": "stdout",
     "output_type": "stream",
     "text": [
      "Bilangan ke : 0\n",
      "Bilangan ke : 1\n",
      "Bilangan ke : 2\n",
      "Bilangan ke : 3\n",
      "Bilangan ke : 4\n",
      "Bilangan ke : 5\n",
      "Bilangan ke : 6\n",
      "Bilangan ke : 7\n",
      "Bilangan ke : 8\n",
      "Bilangan ke : 9\n"
     ]
    }
   ],
   "source": [
    "himpunan_bilangan = range(10)\n",
    "\n",
    "for i in himpunan_bilangan:\n",
    "    print(f\"Bilangan ke : {i}\")"
   ]
  },
  {
   "cell_type": "code",
   "execution_count": 13,
   "id": "f382562d",
   "metadata": {},
   "outputs": [
    {
     "name": "stdout",
     "output_type": "stream",
     "text": [
      "Bilangan ke : 1\n",
      "Bilangan ke : 2\n",
      "Bilangan ke : 3\n",
      "Bilangan ke : 4\n",
      "Bilangan ke : 5\n",
      "Bilangan ke : 6\n",
      "Bilangan ke : 7\n",
      "Bilangan ke : 8\n",
      "Bilangan ke : 9\n",
      "Bilangan ke : 10\n"
     ]
    }
   ],
   "source": [
    "bilangan = range(1,11)\n",
    "for x in bilangan:\n",
    "    print (f\"Bilangan ke : {x}\")"
   ]
  },
  {
   "cell_type": "code",
   "execution_count": 14,
   "id": "7168c02a",
   "metadata": {},
   "outputs": [
    {
     "name": "stdout",
     "output_type": "stream",
     "text": [
      "Bilangan ke : 2\n",
      "Bilangan ke : 4\n",
      "Bilangan ke : 6\n",
      "Bilangan ke : 8\n",
      "Bilangan ke : 10\n",
      "Bilangan ke : 12\n",
      "Bilangan ke : 14\n",
      "Bilangan ke : 16\n",
      "Bilangan ke : 18\n",
      "Bilangan ke : 20\n",
      "Bilangan ke : 22\n",
      "Bilangan ke : 24\n",
      "Bilangan ke : 26\n",
      "Bilangan ke : 28\n",
      "Bilangan ke : 30\n",
      "Bilangan ke : 32\n",
      "Bilangan ke : 34\n",
      "Bilangan ke : 36\n",
      "Bilangan ke : 38\n",
      "Bilangan ke : 40\n",
      "Bilangan ke : 42\n",
      "Bilangan ke : 44\n",
      "Bilangan ke : 46\n",
      "Bilangan ke : 48\n"
     ]
    }
   ],
   "source": [
    "numbers = range(2,50,2)\n",
    "for x in numbers:\n",
    "    print(f\"Bilangan ke : {x}\")"
   ]
  },
  {
   "cell_type": "markdown",
   "id": "c0cee819",
   "metadata": {},
   "source": [
    "## While Loop"
   ]
  },
  {
   "cell_type": "code",
   "execution_count": 19,
   "id": "cb9aa95e",
   "metadata": {},
   "outputs": [
    {
     "name": "stdout",
     "output_type": "stream",
     "text": [
      "1\n",
      "next\n",
      "2\n",
      "next\n",
      "3\n",
      "next\n",
      "4\n",
      "next\n",
      "5\n",
      "next\n",
      "6\n",
      "next\n"
     ]
    }
   ],
   "source": [
    "i = 1\n",
    "# Prin sampai nilai 25\n",
    "while i<=6:\n",
    "    print(i)\n",
    "    i+=1\n",
    "    print('next')"
   ]
  },
  {
   "cell_type": "markdown",
   "id": "152a1094",
   "metadata": {},
   "source": [
    "## Continue"
   ]
  },
  {
   "cell_type": "code",
   "execution_count": 30,
   "id": "785aaccd",
   "metadata": {},
   "outputs": [
    {
     "name": "stdout",
     "output_type": "stream",
     "text": [
      "0\n",
      "2\n",
      "4\n",
      "6\n",
      "8\n",
      "10\n",
      "12\n",
      "14\n",
      "16\n",
      "18\n",
      "20\n",
      "22\n",
      "24\n",
      "26\n",
      "28\n"
     ]
    }
   ],
   "source": [
    "bil = range(30)\n",
    "for x in bil:\n",
    "    if x % 2==1:\n",
    "        continue\n",
    "    print(x)"
   ]
  },
  {
   "cell_type": "markdown",
   "id": "6f4ed795",
   "metadata": {},
   "source": [
    "## Break"
   ]
  },
  {
   "cell_type": "code",
   "execution_count": 31,
   "id": "1dedfbfc",
   "metadata": {},
   "outputs": [
    {
     "name": "stdout",
     "output_type": "stream",
     "text": [
      "0\n",
      "1\n",
      "2\n",
      "3\n",
      "4\n",
      "5\n",
      "6\n",
      "7\n",
      "8\n",
      "9\n",
      "10\n",
      "11\n",
      "12\n",
      "13\n",
      "14\n",
      "15\n",
      "16\n",
      "17\n",
      "18\n",
      "19\n",
      "20\n",
      "21\n",
      "22\n",
      "23\n",
      "24\n"
     ]
    }
   ],
   "source": [
    "for x in bil:\n",
    "    if x ==25:\n",
    "        break\n",
    "    print(x)"
   ]
  },
  {
   "cell_type": "code",
   "execution_count": 53,
   "id": "22b11843",
   "metadata": {},
   "outputs": [
    {
     "name": "stdout",
     "output_type": "stream",
     "text": [
      "Masukkan bilangan yg ingin di cari:5\n",
      "bilangan yg di cari adalah: 5, pls wait\n",
      "Selamat, bilangan 5 berhasil di temukan\n"
     ]
    }
   ],
   "source": [
    "bil = range(31)\n",
    "input_bil = int(input(\"Masukkan bilangan yg ingin di cari:\"))\n",
    "print(f\"bilangan yg di cari adalah: {input_bil}, pls wait\" )\n",
    "for x in bil:\n",
    "    if x == input_bil:\n",
    "        print(f\"Selamat, bilangan {input_bil} berhasil di temukan\")\n",
    "        break"
   ]
  },
  {
   "cell_type": "code",
   "execution_count": 60,
   "id": "f25e4366",
   "metadata": {},
   "outputs": [
    {
     "name": "stdout",
     "output_type": "stream",
     "text": [
      "Masukan jumlah nama peserta :3\n",
      "jumlah nama: 3\n",
      "masukkan nama ke:-1  Ari\n",
      "masukan usia peserta:1 34\n",
      "masukkan nama ke:-2  Adi\n",
      "masukan usia peserta:2 25\n",
      "masukkan nama ke:-3  Ali\n",
      "masukan usia peserta:3 45\n",
      "Daftar nama peserta adalah ['Ari', 'Adi', 'Ali'] ['34', '25', '45']\n"
     ]
    }
   ],
   "source": [
    "jumlah = int(input(\"Masukan jumlah nama peserta :\"))\n",
    "print(f\"jumlah nama: {jumlah}\")\n",
    "i = 1\n",
    "nama =[]\n",
    "usia = []\n",
    "while i<=jumlah:\n",
    "    nama.append(input(f\"masukkan nama ke:-{i}  \"))\n",
    "    usia.append(input(f\"masukan usia peserta:{i} \"))\n",
    "    i+=1\n",
    "print(f\"Daftar nama peserta adalah {nama} {usia}\")"
   ]
  },
  {
   "cell_type": "markdown",
   "id": "e50a1cb4",
   "metadata": {},
   "source": [
    "## Nested Loop"
   ]
  },
  {
   "cell_type": "code",
   "execution_count": 61,
   "id": "2438f6cc",
   "metadata": {},
   "outputs": [
    {
     "name": "stdout",
     "output_type": "stream",
     "text": [
      "i0,j:0\n",
      "i0,j:1\n",
      "i0,j:2\n",
      "i1,j:0\n",
      "i1,j:1\n",
      "i1,j:2\n"
     ]
    }
   ],
   "source": [
    "for i in range(2):\n",
    "    for j in range(3):\n",
    "        print(f\"i{i},j:{j}\", end=\"\")\n",
    "        print()"
   ]
  },
  {
   "cell_type": "code",
   "execution_count": 67,
   "id": "7a3f4b5c",
   "metadata": {},
   "outputs": [
    {
     "name": "stdout",
     "output_type": "stream",
     "text": [
      "Hasil: Adi\n",
      "Hasil: Irma\n",
      "Hasil: Anisa\n",
      "\n",
      "Hasil: Bogor\n",
      "Hasil: Jakarta\n",
      "Hasil: Semarang\n",
      "\n"
     ]
    }
   ],
   "source": [
    "li =[\n",
    "   [\"Adi\",\"Irma\",\"Anisa\"],\n",
    "    [\"Bogor\", \"Jakarta\", \"Semarang\"]\n",
    "]\n",
    "\n",
    "for x in li:\n",
    "    for i in x:\n",
    "        print(f\"Hasil: {i}\")\n",
    "    print()"
   ]
  },
  {
   "cell_type": "code",
   "execution_count": 74,
   "id": "9af8997b",
   "metadata": {},
   "outputs": [
    {
     "name": "stdout",
     "output_type": "stream",
     "text": [
      "4\n"
     ]
    }
   ],
   "source": [
    "## Quizz\n",
    "\n",
    "x = [1, 2, 3, 4, 5]\n",
    "y = [2, 4, 3, 5, 6]\n",
    "z = 0\n",
    "\n",
    "for i in x:\n",
    "    for j in y:\n",
    "        if i==j:\n",
    "            z+=1\n",
    "print(z)"
   ]
  },
  {
   "cell_type": "code",
   "execution_count": 75,
   "id": "def16229",
   "metadata": {},
   "outputs": [
    {
     "name": "stdout",
     "output_type": "stream",
     "text": [
      "i:2, j:2\n",
      "1\n",
      "i:3, j:3\n",
      "2\n",
      "i:4, j:4\n",
      "3\n",
      "i:5, j:5\n",
      "4\n"
     ]
    }
   ],
   "source": [
    "x = [1, 2, 3, 4, 5]\n",
    "y = [2, 4, 3, 5, 6]\n",
    "z = 0\n",
    "\n",
    "for i in x:\n",
    "    for j in y:\n",
    "        if i==j:\n",
    "            print(f\"i:{i}, j:{j}\")\n",
    "            z+=1\n",
    "            print(z)"
   ]
  },
  {
   "cell_type": "markdown",
   "id": "057fda93",
   "metadata": {},
   "source": [
    "## Lis Comprehension"
   ]
  },
  {
   "cell_type": "code",
   "execution_count": 78,
   "id": "273fa387",
   "metadata": {},
   "outputs": [
    {
     "name": "stdout",
     "output_type": "stream",
     "text": [
      "<class 'range'>\n",
      "range(0, 11)\n",
      "<class 'list'>\n",
      "[0, 1, 2, 3, 4, 5, 6, 7, 8, 9, 10]\n"
     ]
    }
   ],
   "source": [
    "random_bil = range (11)\n",
    "print (type(random_bil))\n",
    "print (random_bil)\n",
    "\n",
    "list_random_bil=list(random_bil)\n",
    "print(type(list_random_bil))\n",
    "print(list_random_bil)"
   ]
  },
  {
   "cell_type": "code",
   "execution_count": 79,
   "id": "0fb6ee28",
   "metadata": {},
   "outputs": [
    {
     "name": "stdout",
     "output_type": "stream",
     "text": [
      "[0, 'satu', 1, 2, 3, 4, 5, 6, 7, 8, 9, 10]\n"
     ]
    }
   ],
   "source": [
    "##insert list\n",
    "\n",
    "list_random_bil.insert(1, \"satu\")\n",
    "print(list_random_bil)"
   ]
  },
  {
   "cell_type": "code",
   "execution_count": 87,
   "id": "5044ad1e",
   "metadata": {},
   "outputs": [
    {
     "name": "stdout",
     "output_type": "stream",
     "text": [
      "[1, 3, 4, 'Good']\n",
      "[1, 3, 4]\n"
     ]
    }
   ],
   "source": [
    "## Removing elements\n",
    "\n",
    "b_list=[1,2,3,4,\"Good\"]\n",
    "b_list.pop(1)\n",
    "print(b_list)\n",
    "\n",
    "b_list.remove(\"Good\")\n",
    "print(b_list)"
   ]
  },
  {
   "cell_type": "code",
   "execution_count": 88,
   "id": "52ef8267",
   "metadata": {},
   "outputs": [
    {
     "data": {
      "text/plain": [
       "[1, 3, 4]"
      ]
     },
     "execution_count": 88,
     "metadata": {},
     "output_type": "execute_result"
    }
   ],
   "source": [
    "b_list"
   ]
  },
  {
   "cell_type": "code",
   "execution_count": 90,
   "id": "79a66e0b",
   "metadata": {},
   "outputs": [
    {
     "name": "stdout",
     "output_type": "stream",
     "text": [
      "Masukkan nama kota:Medan\n",
      "Kota Medan, ditemukan\n"
     ]
    }
   ],
   "source": [
    "cities = [\"Jakarta\",\"Medan\", \"Kuala Lumpur\",\"Singapore\"]\n",
    "nama_kota = input(\"Masukkan nama kota:\")\n",
    "if nama_kota in cities:\n",
    "    print(f\"Kota {nama_kota}, ditemukan\")\n",
    "else:\n",
    "    print(f\"Kota {nama_kota}, tidak di temukan\")"
   ]
  },
  {
   "cell_type": "code",
   "execution_count": 91,
   "id": "7abd2703",
   "metadata": {},
   "outputs": [],
   "source": [
    "## extend\n",
    "cities.extend([\"Bandung\", \"Mandalika\"])\n"
   ]
  },
  {
   "cell_type": "code",
   "execution_count": 92,
   "id": "d355ccb7",
   "metadata": {},
   "outputs": [
    {
     "data": {
      "text/plain": [
       "['Jakarta', 'Medan', 'Kuala Lumpur', 'Singapore', 'Bandung', 'Mandalika']"
      ]
     },
     "execution_count": 92,
     "metadata": {},
     "output_type": "execute_result"
    }
   ],
   "source": [
    "cities"
   ]
  },
  {
   "cell_type": "code",
   "execution_count": 94,
   "id": "479d1283",
   "metadata": {},
   "outputs": [
    {
     "name": "stdout",
     "output_type": "stream",
     "text": [
      "[1, 3, 4, 7, 9, 54]\n",
      "['saw', 'small', 'Foxes', 'Machines']\n"
     ]
    }
   ],
   "source": [
    "##sorting\n",
    "a = [1,4,7,9,54,3]\n",
    "a.sort()\n",
    "print(a)\n",
    "\n",
    "b = [\"saw\", \"Machines\", \"small\", \"Foxes\"]\n",
    "b.sort(key=len)\n",
    "print(b)"
   ]
  },
  {
   "cell_type": "code",
   "execution_count": null,
   "id": "fac5122d",
   "metadata": {},
   "outputs": [],
   "source": []
  }
 ],
 "metadata": {
  "kernelspec": {
   "display_name": "Python 3 (ipykernel)",
   "language": "python",
   "name": "python3"
  },
  "language_info": {
   "codemirror_mode": {
    "name": "ipython",
    "version": 3
   },
   "file_extension": ".py",
   "mimetype": "text/x-python",
   "name": "python",
   "nbconvert_exporter": "python",
   "pygments_lexer": "ipython3",
   "version": "3.9.7"
  }
 },
 "nbformat": 4,
 "nbformat_minor": 5
}
