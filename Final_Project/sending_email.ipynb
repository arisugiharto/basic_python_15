{
 "cells": [
  {
   "cell_type": "code",
   "execution_count": 3,
   "id": "da0dd2cf",
   "metadata": {},
   "outputs": [
    {
     "ename": "SyntaxError",
     "evalue": "Missing parentheses in call to 'print'. Did you mean print('Message Id: %s' % message['id'])? (Temp/ipykernel_12984/1722851833.py, line 34)",
     "output_type": "error",
     "traceback": [
      "\u001b[1;36m  File \u001b[1;32m\"C:\\Users\\raris\\AppData\\Local\\Temp/ipykernel_12984/1722851833.py\"\u001b[1;36m, line \u001b[1;32m34\u001b[0m\n\u001b[1;33m    print 'Message Id: %s' % message['id']\u001b[0m\n\u001b[1;37m          ^\u001b[0m\n\u001b[1;31mSyntaxError\u001b[0m\u001b[1;31m:\u001b[0m Missing parentheses in call to 'print'. Did you mean print('Message Id: %s' % message['id'])?\n"
     ]
    }
   ],
   "source": [
    "def create_message(sender, to, subject, message_text):\n",
    "  \"\"\"Create a message for an email.\n",
    "\n",
    "  Args:\n",
    "    sender: Email address of the sender.\n",
    "    to: Email address of the receiver.\n",
    "    subject: The subject of the email message.\n",
    "    message_text: The text of the email message.\n",
    "\n",
    "  Returns:\n",
    "    An object containing a base64url encoded email object.\n",
    "  \"\"\"\n",
    "  message = MIMEText(message_text)\n",
    "  message['to'] = rarisugiharto@gmail.com\n",
    "  message['from'] = stephensalvatore256@gmail.com\n",
    "  message['subject'] = 'testing sending email from pytho0n'\n",
    "  return {'raw': base64.urlsafe_b64encode(message.as_string())}\n",
    "\n",
    "def send_message(service, user_id, message):\n",
    "  \"\"\"Send an email message.\n",
    "\n",
    "  Args:\n",
    "    service: Authorized Gmail API service instance.\n",
    "    user_id: User's email address. The special value \"me\"\n",
    "    can be used to indicate the authenticated user.\n",
    "    message: Message to be sent.\n",
    "\n",
    "  Returns:\n",
    "    Sent Message.\n",
    "  \"\"\"\n",
    "  try:\n",
    "    message = (service.users().messages().send(userId=user_id, body=message)\n",
    "               .execute())\n",
    "    print 'Message Id: %s' % message['id']\n",
    "    return message\n",
    "  except errors.HttpError, error:\n",
    "    print 'An error occurred: %s' % error"
   ]
  },
  {
   "cell_type": "code",
   "execution_count": 4,
   "id": "e5703b6a",
   "metadata": {},
   "outputs": [
    {
     "name": "stdout",
     "output_type": "stream",
     "text": [
      "Masukkan akun gmail: stephensalvatore256@gmail.com\n",
      "Pass email pengirim(Hidden): \n",
      "········\n",
      "Masukkan gmail penerima lalu akhiri dengan enter: rarisugiharto@gmail.com\n",
      "Masukkan  subjek atau judul lalu akhiri dengan enter: test kirm email\n",
      "Masukkan pesan yang akan dikirim lalu akhiri dengan enter: test kirim2 email pake python\n",
      "Email sent!\n"
     ]
    }
   ],
   "source": [
    "# Imports Library smtplib\n",
    "import smtplib,getpass\n",
    "\n",
    "# SETUP EMAIL LOGIN \n",
    "gmail_user = input(str(\"Masukkan akun gmail: \"))\n",
    "gmail_app_password = getpass.getpass(prompt = \"Pass email pengirim(Hidden): \\n\")\n",
    "\n",
    "# SETUP PENERIMA EMAIL\n",
    "#with open('receiver_list.txt', 'r') as file:\n",
    "\t#penerima = file.read().replace('\\n', ',')\n",
    "\n",
    "# SETUP Pengirim, penerima, judul dan isi email\n",
    "sent_from = gmail_user\n",
    "sent_to = input(str(\"Masukkan gmail penerima lalu akhiri dengan enter: \"))\n",
    "sent_subject = input(str(\"Masukkan  subjek atau judul lalu akhiri dengan enter: \"))\n",
    "sent_body = input(str(\"Masukkan pesan yang akan dikirim lalu akhiri dengan enter: \"))\n",
    "\n",
    "email_text = \"\"\"\\\n",
    "From: %s\n",
    "To: %s\n",
    "Subject: %s\n",
    "\n",
    "%s\n",
    "\"\"\" % (sent_from, \", \".join(sent_to), sent_subject, sent_body)\n",
    "\n",
    "# =============================================================================\n",
    "# Mengirim Email atau Gagal\n",
    "# Detail Sumber: http://www.samlogic.net/articles/smtp-commands-reference.htm\n",
    "# =============================================================================\n",
    "\n",
    "try:\n",
    "    server = smtplib.SMTP_SSL('smtp.gmail.com', 465)\n",
    "    server.ehlo()\n",
    "    server.login(gmail_user, gmail_app_password)\n",
    "    server.sendmail(sent_from, sent_to, email_text)\n",
    "    server.close()\n",
    "\n",
    "    print('Email sent!')\n",
    "except Exception as exception:\n",
    "    print(\"Error: %s!\\n\\n\" % exception)\n",
    "\n",
    "#sumber : https://stackoverflow.com/questions/10147455/how-to-send-an-email-with-gmail-as-provider-using-python"
   ]
  },
  {
   "cell_type": "code",
   "execution_count": null,
   "id": "da288785",
   "metadata": {},
   "outputs": [],
   "source": []
  }
 ],
 "metadata": {
  "kernelspec": {
   "display_name": "Python 3 (ipykernel)",
   "language": "python",
   "name": "python3"
  },
  "language_info": {
   "codemirror_mode": {
    "name": "ipython",
    "version": 3
   },
   "file_extension": ".py",
   "mimetype": "text/x-python",
   "name": "python",
   "nbconvert_exporter": "python",
   "pygments_lexer": "ipython3",
   "version": "3.9.7"
  }
 },
 "nbformat": 4,
 "nbformat_minor": 5
}
