{
 "cells": [
  {
   "cell_type": "code",
   "execution_count": 5,
   "id": "6b8b9e8d",
   "metadata": {},
   "outputs": [
    {
     "name": "stdout",
     "output_type": "stream",
     "text": [
      "Masukan Subject Email: coba email\n",
      "Email Pengirim: stephensalvatore256@gmail.com\n",
      "Pass email(Hidden): \n",
      "········\n",
      "Email Kepada Ari Terkirim!\n",
      "Email Kepada Tayoo Terkirim!\n",
      "Email Kepada sugi Terkirim!\n"
     ]
    }
   ],
   "source": [
    "#Final Project\n",
    "#Program untuk mengirimkan email kepada beberapa penerima\n",
    "#Menggunakan smtp GMAIL, sebelumnya email pengirim di setting untuk menerima low security.\n",
    "\n",
    "# Imports Library smtplib, ssl, csv, getpass\n",
    "\n",
    "import smtplib,ssl,csv,getpass\n",
    "from email import encoders\n",
    "from email.mime.base import MIMEBase\n",
    "from email.mime.text import MIMEText\n",
    "from email.mime.multipart import MIMEMultipart\n",
    "\n",
    "# SETUP EMAIL LOGIN \n",
    "judul_pesan = input(f\"Masukan Subject Email: \")\n",
    "user_email =input(f\"Email Pengirim: \")\n",
    "user_pass=getpass.getpass(prompt = \"Pass email(Hidden): \\n\")\n",
    "try:\n",
    "    data= open('receiver_list.txt','r')\n",
    "    read_file = csv.reader(data)\n",
    "    if data=='':\n",
    "        print('Data Tujuan Masih Kosong')\n",
    "    for cetak in read_file:\n",
    "        #message\n",
    "        pesan = MIMEMultipart(\"alternative\")\n",
    "        pesan['Subject']='Thank you for your shopping'\n",
    "        pesan['From']= user_email\n",
    "        pesan['To']=cetak[1]\n",
    "        \n",
    "        #template\n",
    "        html = open(\"template.html\")\n",
    "        template = MIMEText(html.read(),\"html\") #membaca file sebagai HTML\n",
    "        pesan.attach(template) #masukan template ke pesan\n",
    "        \n",
    "        #attach file\n",
    "        filenamepromo='promo.pdf'\n",
    "        with open(filenamepromo,'rb') as lampiran:\n",
    "            pdf=MIMEBase(\"application\",\"octet-stream\")\n",
    "            pdf.set_payload(lampiran.read())\n",
    "            encoders.encode_base64(pdf)\n",
    "            pesan.attach(pdf)\n",
    "            pdf.add_header(\n",
    "                \"Content-Disposition\",\n",
    "                \"attachment\",\n",
    "                filename=filenamepromo\n",
    "            )\n",
    "            \n",
    "        #send email\n",
    "        context = ssl.create_default_context()\n",
    "        try:\n",
    "            server = smtplib.SMTP_SSL('smtp.gmail.com', 465)\n",
    "            server.ehlo()\n",
    "            server.login(user_email, user_pass)\n",
    "            server.sendmail(user_email, cetak[1], msg=pesan.as_string())\n",
    "            server.close()\n",
    "            print('Email Kepada '+cetak[0]+' Terkirim!')\n",
    "        except Exception as exception:\n",
    "            print(\"Error: %s!\\n\\n\" % exception)\n",
    "            print('Belum Membuat daftar penerima!!\\n\\n')\n",
    "    data.close()\n",
    "except Exception as exception:\n",
    "    print(\"Error: %s!\\n\" % exception) \n",
    "    \n",
    "#sumber = https://www.youtube.com/watch?v=q0yAR04avXk\n",
    "#sumber : https://stackoverflow.com/questions/10147455/how-to-send-an-email-with-gmail-as-provider-using-python"
   ]
  },
  {
   "cell_type": "code",
   "execution_count": null,
   "id": "45ef4331",
   "metadata": {},
   "outputs": [],
   "source": []
  }
 ],
 "metadata": {
  "kernelspec": {
   "display_name": "Python 3 (ipykernel)",
   "language": "python",
   "name": "python3"
  },
  "language_info": {
   "codemirror_mode": {
    "name": "ipython",
    "version": 3
   },
   "file_extension": ".py",
   "mimetype": "text/x-python",
   "name": "python",
   "nbconvert_exporter": "python",
   "pygments_lexer": "ipython3",
   "version": "3.9.7"
  }
 },
 "nbformat": 4,
 "nbformat_minor": 5
}
