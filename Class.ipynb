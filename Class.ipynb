{
 "cells": [
  {
   "cell_type": "markdown",
   "id": "975a4bdd",
   "metadata": {},
   "source": [
    "# Python Object & Class"
   ]
  },
  {
   "cell_type": "markdown",
   "id": "6165dbeb",
   "metadata": {},
   "source": [
    "## Simplest Form"
   ]
  },
  {
   "cell_type": "code",
   "execution_count": 4,
   "id": "65ea13b8",
   "metadata": {},
   "outputs": [],
   "source": [
    "#class Human:\n",
    "#    nama = 'Ari'\n",
    "#    umur = 35"
   ]
  },
  {
   "cell_type": "code",
   "execution_count": 6,
   "id": "8486c3af",
   "metadata": {},
   "outputs": [
    {
     "name": "stdout",
     "output_type": "stream",
     "text": [
      "Ari 35\n"
     ]
    }
   ],
   "source": [
    "#ari = Human()\n",
    "#print(ari.nama, ari.umur)"
   ]
  },
  {
   "cell_type": "markdown",
   "id": "45841b46",
   "metadata": {},
   "source": [
    "## Init Function"
   ]
  },
  {
   "cell_type": "code",
   "execution_count": 7,
   "id": "5bcf0f31",
   "metadata": {},
   "outputs": [],
   "source": [
    "#class Human:\n",
    "#    def __init__(self, nama:str, umur:int, profesi:str, negara:str):\n",
    "        self.nama, self.umur, self.profesi, self.negara = nama, umur, profesi, negara"
   ]
  },
  {
   "cell_type": "code",
   "execution_count": 10,
   "id": "e8bd61c4",
   "metadata": {},
   "outputs": [
    {
     "name": "stdout",
     "output_type": "stream",
     "text": [
      "Nama: Ari\n",
      "Umur:35\n",
      "profesi:Karyawan Swasta\n",
      "negara:Indonesia\n"
     ]
    }
   ],
   "source": [
    "#ari = Human(\"Ari\", 35, \"Karyawan Swasta\", \"Indonesia\")\n",
    "#print(f\"Nama: {ari.nama}\\nUmur:{ari.umur}\\nprofesi:{ari.profesi}\\nnegara:{ari.negara}\")"
   ]
  },
  {
   "cell_type": "code",
   "execution_count": null,
   "id": "49b47cd4",
   "metadata": {},
   "outputs": [],
   "source": [
    "#budi = Human(nama = \"ari\", umur = 35, profesi = \"karyawan\", negara = \"Indonesia\")"
   ]
  },
  {
   "cell_type": "code",
   "execution_count": 11,
   "id": "9259c798",
   "metadata": {},
   "outputs": [
    {
     "ename": "NameError",
     "evalue": "name 'budi' is not defined",
     "output_type": "error",
     "traceback": [
      "\u001b[1;31m---------------------------------------------------------------------------\u001b[0m",
      "\u001b[1;31mNameError\u001b[0m                                 Traceback (most recent call last)",
      "\u001b[1;32m~\\AppData\\Local\\Temp/ipykernel_11672/1696845550.py\u001b[0m in \u001b[0;36m<module>\u001b[1;34m\u001b[0m\n\u001b[1;32m----> 1\u001b[1;33m \u001b[0mprint\u001b[0m\u001b[1;33m(\u001b[0m\u001b[0mbudi\u001b[0m\u001b[1;33m)\u001b[0m\u001b[1;33m\u001b[0m\u001b[1;33m\u001b[0m\u001b[0m\n\u001b[0m",
      "\u001b[1;31mNameError\u001b[0m: name 'budi' is not defined"
     ]
    }
   ],
   "source": [
    "#print(budi)"
   ]
  },
  {
   "cell_type": "markdown",
   "id": "e00a61e4",
   "metadata": {},
   "source": [
    "## Method"
   ]
  },
  {
   "cell_type": "code",
   "execution_count": 29,
   "id": "a0fbeea3",
   "metadata": {},
   "outputs": [],
   "source": [
    "class Human:\n",
    "    def __init__(self, name:str, job:str, age:int, weight:int, salary:int, country:str):\n",
    "        self.name, self.job, self.age, self.weight, self.salary, self.country\n",
    "    def makan(self, nama_makanan: str):\n",
    "        self.weight += 0.1\n",
    "        print(f\"{self.name} sedang makan {nama_makanan}, Berat badan sekarang adalah = {self.weight} \")\n",
    "#    def lari(self, asal=\"\", tujuan=\"\"):\n",
    "#        print(f\"{self.name} sedang berlari dari {self.asal} menuju ke {self.tujuan}\")\n",
    "#    def show_profile(self):\n",
    "#        print(f\"Nama: {self.name}\\n Pekerjaan: {self.job}\\nUmur: {self.age}\\nGaji: {self.salary}\\n Negara: {self.country}\")"
   ]
  },
  {
   "cell_type": "code",
   "execution_count": 32,
   "id": "531b08fe",
   "metadata": {},
   "outputs": [
    {
     "ename": "AttributeError",
     "evalue": "'Human' object has no attribute 'name'",
     "output_type": "error",
     "traceback": [
      "\u001b[1;31m---------------------------------------------------------------------------\u001b[0m",
      "\u001b[1;31mAttributeError\u001b[0m                            Traceback (most recent call last)",
      "\u001b[1;32m~\\AppData\\Local\\Temp/ipykernel_11672/1130497791.py\u001b[0m in \u001b[0;36m<module>\u001b[1;34m\u001b[0m\n\u001b[1;32m----> 1\u001b[1;33m \u001b[0mari\u001b[0m \u001b[1;33m=\u001b[0m \u001b[0mHuman\u001b[0m\u001b[1;33m(\u001b[0m\u001b[1;34m\"Ari\"\u001b[0m\u001b[1;33m,\u001b[0m \u001b[1;34m\"Karyawan\"\u001b[0m\u001b[1;33m,\u001b[0m \u001b[1;36m35\u001b[0m\u001b[1;33m,\u001b[0m \u001b[1;36m70\u001b[0m\u001b[1;33m,\u001b[0m \u001b[1;36m10000000\u001b[0m\u001b[1;33m,\u001b[0m \u001b[1;34m\"Indonesia\"\u001b[0m\u001b[1;33m)\u001b[0m\u001b[1;33m\u001b[0m\u001b[1;33m\u001b[0m\u001b[0m\n\u001b[0m\u001b[0;32m      2\u001b[0m \u001b[0mprint\u001b[0m\u001b[1;33m(\u001b[0m\u001b[1;34mf\"Nama: {ari.name}\\nUmur:{ari.age}\\nprofesi:{ari.job}\\nnegara:{ari.country}\"\u001b[0m\u001b[1;33m)\u001b[0m\u001b[1;33m\u001b[0m\u001b[1;33m\u001b[0m\u001b[0m\n\u001b[0;32m      3\u001b[0m \u001b[1;31m#ari.makan(\"Apel\")\u001b[0m\u001b[1;33m\u001b[0m\u001b[1;33m\u001b[0m\u001b[0m\n\u001b[0;32m      4\u001b[0m \u001b[1;31m#ari.makan(\"Anggur\")\u001b[0m\u001b[1;33m\u001b[0m\u001b[1;33m\u001b[0m\u001b[0m\n\u001b[0;32m      5\u001b[0m \u001b[1;31m#ari.makan(\"Jeruk\")\u001b[0m\u001b[1;33m\u001b[0m\u001b[1;33m\u001b[0m\u001b[0m\n",
      "\u001b[1;32m~\\AppData\\Local\\Temp/ipykernel_11672/3480119567.py\u001b[0m in \u001b[0;36m__init__\u001b[1;34m(self, name, job, age, weight, salary, country)\u001b[0m\n\u001b[0;32m      1\u001b[0m \u001b[1;32mclass\u001b[0m \u001b[0mHuman\u001b[0m\u001b[1;33m:\u001b[0m\u001b[1;33m\u001b[0m\u001b[1;33m\u001b[0m\u001b[0m\n\u001b[0;32m      2\u001b[0m     \u001b[1;32mdef\u001b[0m \u001b[0m__init__\u001b[0m\u001b[1;33m(\u001b[0m\u001b[0mself\u001b[0m\u001b[1;33m,\u001b[0m \u001b[0mname\u001b[0m\u001b[1;33m:\u001b[0m\u001b[0mstr\u001b[0m\u001b[1;33m,\u001b[0m \u001b[0mjob\u001b[0m\u001b[1;33m:\u001b[0m\u001b[0mstr\u001b[0m\u001b[1;33m,\u001b[0m \u001b[0mage\u001b[0m\u001b[1;33m:\u001b[0m\u001b[0mint\u001b[0m\u001b[1;33m,\u001b[0m \u001b[0mweight\u001b[0m\u001b[1;33m:\u001b[0m\u001b[0mint\u001b[0m\u001b[1;33m,\u001b[0m \u001b[0msalary\u001b[0m\u001b[1;33m:\u001b[0m\u001b[0mint\u001b[0m\u001b[1;33m,\u001b[0m \u001b[0mcountry\u001b[0m\u001b[1;33m:\u001b[0m\u001b[0mstr\u001b[0m\u001b[1;33m)\u001b[0m\u001b[1;33m:\u001b[0m\u001b[1;33m\u001b[0m\u001b[1;33m\u001b[0m\u001b[0m\n\u001b[1;32m----> 3\u001b[1;33m         \u001b[0mself\u001b[0m\u001b[1;33m.\u001b[0m\u001b[0mname\u001b[0m\u001b[1;33m,\u001b[0m \u001b[0mself\u001b[0m\u001b[1;33m.\u001b[0m\u001b[0mjob\u001b[0m\u001b[1;33m,\u001b[0m \u001b[0mself\u001b[0m\u001b[1;33m.\u001b[0m\u001b[0mage\u001b[0m\u001b[1;33m,\u001b[0m \u001b[0mself\u001b[0m\u001b[1;33m.\u001b[0m\u001b[0mweight\u001b[0m\u001b[1;33m,\u001b[0m \u001b[0mself\u001b[0m\u001b[1;33m.\u001b[0m\u001b[0msalary\u001b[0m\u001b[1;33m,\u001b[0m \u001b[0mself\u001b[0m\u001b[1;33m.\u001b[0m\u001b[0mcountry\u001b[0m\u001b[1;33m\u001b[0m\u001b[1;33m\u001b[0m\u001b[0m\n\u001b[0m\u001b[0;32m      4\u001b[0m     \u001b[1;32mdef\u001b[0m \u001b[0mmakan\u001b[0m\u001b[1;33m(\u001b[0m\u001b[0mself\u001b[0m\u001b[1;33m,\u001b[0m \u001b[0mnama_makanan\u001b[0m\u001b[1;33m:\u001b[0m \u001b[0mstr\u001b[0m\u001b[1;33m)\u001b[0m\u001b[1;33m:\u001b[0m\u001b[1;33m\u001b[0m\u001b[1;33m\u001b[0m\u001b[0m\n\u001b[0;32m      5\u001b[0m         \u001b[0mself\u001b[0m\u001b[1;33m.\u001b[0m\u001b[0mweight\u001b[0m \u001b[1;33m+=\u001b[0m \u001b[1;36m0.1\u001b[0m\u001b[1;33m\u001b[0m\u001b[1;33m\u001b[0m\u001b[0m\n",
      "\u001b[1;31mAttributeError\u001b[0m: 'Human' object has no attribute 'name'"
     ]
    }
   ],
   "source": [
    "ari = Human(\"Ari\", \"Karyawan\", 35, 70, 10000000, \"Indonesia\")\n",
    "print(f\"Nama: {ari.name}\\nUmur:{ari.age}\\nprofesi:{ari.job}\\nnegara:{ari.country}\")\n",
    "#ari.makan(\"Apel\")\n",
    "#ari.makan(\"Anggur\")\n",
    "#ari.makan(\"Jeruk\")\n",
    "#ari.makan(\"Nanas\")"
   ]
  },
  {
   "cell_type": "code",
   "execution_count": 18,
   "id": "c72ae31b",
   "metadata": {},
   "outputs": [
    {
     "ename": "AttributeError",
     "evalue": "'Human' object has no attribute 'makan'",
     "output_type": "error",
     "traceback": [
      "\u001b[1;31m---------------------------------------------------------------------------\u001b[0m",
      "\u001b[1;31mAttributeError\u001b[0m                            Traceback (most recent call last)",
      "\u001b[1;32m~\\AppData\\Local\\Temp/ipykernel_11672/4193011444.py\u001b[0m in \u001b[0;36m<module>\u001b[1;34m\u001b[0m\n\u001b[1;32m----> 1\u001b[1;33m \u001b[0mari\u001b[0m\u001b[1;33m.\u001b[0m\u001b[0mmakan\u001b[0m\u001b[1;33m(\u001b[0m\u001b[1;34m\"pizzxa\"\u001b[0m\u001b[1;33m)\u001b[0m\u001b[1;33m\u001b[0m\u001b[1;33m\u001b[0m\u001b[0m\n\u001b[0m",
      "\u001b[1;31mAttributeError\u001b[0m: 'Human' object has no attribute 'makan'"
     ]
    }
   ],
   "source": [
    "ari.makan(\"pizzxa\")"
   ]
  },
  {
   "cell_type": "code",
   "execution_count": null,
   "id": "9a3e708c",
   "metadata": {},
   "outputs": [],
   "source": []
  }
 ],
 "metadata": {
  "kernelspec": {
   "display_name": "Python 3 (ipykernel)",
   "language": "python",
   "name": "python3"
  },
  "language_info": {
   "codemirror_mode": {
    "name": "ipython",
    "version": 3
   },
   "file_extension": ".py",
   "mimetype": "text/x-python",
   "name": "python",
   "nbconvert_exporter": "python",
   "pygments_lexer": "ipython3",
   "version": "3.9.7"
  }
 },
 "nbformat": 4,
 "nbformat_minor": 5
}
